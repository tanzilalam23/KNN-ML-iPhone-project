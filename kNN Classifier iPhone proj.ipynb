{
 "cells": [
  {
   "cell_type": "code",
   "execution_count": 1,
   "id": "573f7c77",
   "metadata": {},
   "outputs": [],
   "source": [
    "import pandas as pd"
   ]
  },
  {
   "cell_type": "code",
   "execution_count": 2,
   "id": "621e4091",
   "metadata": {},
   "outputs": [
    {
     "name": "stdout",
     "output_type": "stream",
     "text": [
      "   Gender  Age  Salary  Purchase Iphone\n",
      "0    Male   19   19000                0\n",
      "1    Male   35   20000                0\n",
      "2  Female   26   43000                0\n",
      "3  Female   27   57000                0\n",
      "4    Male   19   76000                0\n"
     ]
    }
   ],
   "source": [
    "df = pd.read_csv(\"iphone.csv\")   #taking the dataset\n",
    "print(df.head())"
   ]
  },
  {
   "cell_type": "code",
   "execution_count": 3,
   "id": "a54be281",
   "metadata": {},
   "outputs": [
    {
     "data": {
      "text/plain": [
       "Gender             0\n",
       "Age                0\n",
       "Salary             0\n",
       "Purchase Iphone    0\n",
       "dtype: int64"
      ]
     },
     "execution_count": 3,
     "metadata": {},
     "output_type": "execute_result"
    }
   ],
   "source": [
    "df.isnull().sum() #checking for missing values"
   ]
  },
  {
   "cell_type": "code",
   "execution_count": 4,
   "id": "a55b2143",
   "metadata": {},
   "outputs": [],
   "source": [
    "# Distributing dependent and independent variable\n",
    "\n",
    "x = df.iloc[:,:-1].values  # x contains independent variable \n",
    "y = df.iloc[:,3].values    # y contains dependent variable \"Purchase iPhone\"\n"
   ]
  },
  {
   "cell_type": "code",
   "execution_count": 5,
   "id": "53673ec7",
   "metadata": {},
   "outputs": [],
   "source": [
    "# Converting categorical variable into numbers \n",
    "\n",
    "from sklearn.preprocessing import LabelEncoder\n",
    "le_gender = LabelEncoder()\n",
    "x[:,0] = le_gender.fit_transform(x[:,0])"
   ]
  },
  {
   "cell_type": "code",
   "execution_count": 6,
   "id": "7150305f",
   "metadata": {},
   "outputs": [],
   "source": [
    "# Splitting data into train and test for KNN\n",
    "\n",
    "from sklearn.model_selection import train_test_split\n",
    "x_train, x_test, y_train, y_test = train_test_split(x,y, test_size=.25, random_state = 0)  # here splitting testing set to 25%"
   ]
  },
  {
   "cell_type": "code",
   "execution_count": 7,
   "id": "809ab0fe",
   "metadata": {},
   "outputs": [],
   "source": [
    "# Feature Scaling\n",
    "\n",
    "from sklearn.preprocessing import StandardScaler  # StandardScaler is use to do Feature Transformation with mean = 0 and \n",
    "                                                  # std deviation = 1 \n",
    "sc = StandardScaler()\n",
    "# In \"fit\", we are computing the mean and std-deviation in case of StandardScalar; \n",
    "# In \"transform\" we are applying entire formula in each and every data points.\n",
    "x_train_scalar = sc.fit_transform(x_train)  \n",
    "x_test_scalar = sc.transform(x_test)  # Data which will use in Making Predictions"
   ]
  },
  {
   "cell_type": "code",
   "execution_count": 8,
   "id": "9a6bc564",
   "metadata": {},
   "outputs": [
    {
     "data": {
      "text/plain": [
       "KNeighborsClassifier()"
      ]
     },
     "execution_count": 8,
     "metadata": {},
     "output_type": "execute_result"
    }
   ],
   "source": [
    "# Implementing k-NN Classifier [Model Building]\n",
    "\n",
    "from sklearn.neighbors import KNeighborsClassifier\n",
    "\n",
    "# for Euclidean distance we use p = 2 and specify metric as minkowski\n",
    "c = KNeighborsClassifier(n_neighbors= 5, metric= \"minkowski\", p =2) # Here, the model will only learn parameters and weight\n",
    "c.fit(x_train_scalar,y_train)  # Learn from I/P and O/P data and sets its parameter and weight"
   ]
  },
  {
   "cell_type": "code",
   "execution_count": 9,
   "id": "1d3ebf39",
   "metadata": {},
   "outputs": [],
   "source": [
    "# Making Predictions\n",
    "\n",
    "y_pred = c.predict(x_test_scalar)  # It will do the prediction of new data and give us the O/P"
   ]
  },
  {
   "cell_type": "code",
   "execution_count": 10,
   "id": "3f2abc9a",
   "metadata": {},
   "outputs": [
    {
     "name": "stdout",
     "output_type": "stream",
     "text": [
      "[[64  4]\n",
      " [ 3 29]]\n",
      "Accuracy score: 0.93\n",
      "Precision score: 0.8787878787878788\n",
      "Recall score: 0.90625\n"
     ]
    }
   ],
   "source": [
    "from sklearn import metrics\n",
    "\n",
    "cm = metrics.confusion_matrix(y_test, y_pred) #Creating Confusion Matrix; to compare predicted result with the actual result\n",
    "print(cm)\n",
    "accuracy = metrics.accuracy_score(y_test, y_pred) # Checking accuracy of a model\n",
    "print(\"Accuracy score:\", accuracy)\n",
    "precision = metrics.precision_score(y_test,y_pred) # Precision score is % of predicted postive events that are actually positive\n",
    "print(\"Precision score:\", precision)\n",
    "recall = metrics.recall_score(y_test,y_pred) # Recall score is the % of positive events that we predicted correctly\n",
    "print(\"Recall score:\", recall)"
   ]
  },
  {
   "cell_type": "markdown",
   "id": "5be9d546",
   "metadata": {},
   "source": [
    "<b>Accuracy Score</b> = (TP+TN)/(TP+TN+FP+FN)<br><br>\n",
    "<b>Recall Score</b> = TP/(TP+FN)<br><br>\n",
    "<b>Precision Score</b> = TP/(TP+FP)"
   ]
  },
  {
   "cell_type": "markdown",
   "id": "7978cfce",
   "metadata": {},
   "source": [
    "We get an accuracy of 93%  and only 7 that is 3+4 incorrect predictions were made.<br><br>\n",
    "\n",
    "64 --> True Negative i.e,; Person has not bought an iPhone and predicted value also says the same<br>\n",
    "4 --> Flase Positive i.e,; Person has not bought an iPhone but the predicted value says they did buy<br>\n",
    "3 --> Flase Negative i.e,; Person has bought an iPhone but the predicted value says they did not buy<br>\n",
    "29 --> True Positive i.e,; Person has bought an iPhone and the predicted value also says they bought<br>"
   ]
  }
 ],
 "metadata": {
  "kernelspec": {
   "display_name": "Python 3",
   "language": "python",
   "name": "python3"
  },
  "language_info": {
   "codemirror_mode": {
    "name": "ipython",
    "version": 3
   },
   "file_extension": ".py",
   "mimetype": "text/x-python",
   "name": "python",
   "nbconvert_exporter": "python",
   "pygments_lexer": "ipython3",
   "version": "3.8.8"
  }
 },
 "nbformat": 4,
 "nbformat_minor": 5
}
